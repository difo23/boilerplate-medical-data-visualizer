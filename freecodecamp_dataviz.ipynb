{
 "cells": [
  {
   "cell_type": "code",
   "execution_count": 208,
   "metadata": {},
   "outputs": [],
   "source": [
    "import pandas as pd\n",
    "import matplotlib as mt\n",
    "\n",
    "import numpy as np\n",
    "\n",
    "import seaborn as sns\n",
    "import matplotlib.pyplot as plt\n",
    "sns.set_theme(style=\"ticks\", color_codes=True)\n"
   ]
  },
  {
   "cell_type": "markdown",
   "metadata": {},
   "source": [
    "#### Create a chart similar to `examples/Figure_1.png`, where we show the counts of good and bad outcomes for the `cholesterol`, `gluc`, `alco`, `active`, and `smoke` variables for patients with cardio=1 and cardio=0 in different panels."
   ]
  },
  {
   "cell_type": "code",
   "execution_count": 209,
   "metadata": {},
   "outputs": [],
   "source": [
    "df = pd.read_csv(\"./medical_examination.csv\")\n",
    "df_original = pd.read_csv(\"./medical_examination.csv\")"
   ]
  },
  {
   "cell_type": "code",
   "execution_count": 210,
   "metadata": {},
   "outputs": [
    {
     "data": {
      "text/plain": [
       "(70000, 13)"
      ]
     },
     "execution_count": 210,
     "metadata": {},
     "output_type": "execute_result"
    }
   ],
   "source": [
    "df.shape"
   ]
  },
  {
   "cell_type": "code",
   "execution_count": 211,
   "metadata": {},
   "outputs": [],
   "source": [
    "x = ['cholesterol', 'gluc', 'alco', 'active', 'smoke', 'cardio']"
   ]
  },
  {
   "cell_type": "code",
   "execution_count": 212,
   "metadata": {},
   "outputs": [],
   "source": [
    "subset = df.loc[:, x]"
   ]
  },
  {
   "cell_type": "code",
   "execution_count": 213,
   "metadata": {},
   "outputs": [
    {
     "data": {
      "text/html": [
       "<div>\n",
       "<style scoped>\n",
       "    .dataframe tbody tr th:only-of-type {\n",
       "        vertical-align: middle;\n",
       "    }\n",
       "\n",
       "    .dataframe tbody tr th {\n",
       "        vertical-align: top;\n",
       "    }\n",
       "\n",
       "    .dataframe thead th {\n",
       "        text-align: right;\n",
       "    }\n",
       "</style>\n",
       "<table border=\"1\" class=\"dataframe\">\n",
       "  <thead>\n",
       "    <tr style=\"text-align: right;\">\n",
       "      <th></th>\n",
       "      <th>cholesterol</th>\n",
       "      <th>gluc</th>\n",
       "      <th>alco</th>\n",
       "      <th>active</th>\n",
       "      <th>smoke</th>\n",
       "      <th>cardio</th>\n",
       "    </tr>\n",
       "  </thead>\n",
       "  <tbody>\n",
       "    <tr>\n",
       "      <th>0</th>\n",
       "      <td>1</td>\n",
       "      <td>1</td>\n",
       "      <td>0</td>\n",
       "      <td>1</td>\n",
       "      <td>0</td>\n",
       "      <td>0</td>\n",
       "    </tr>\n",
       "    <tr>\n",
       "      <th>1</th>\n",
       "      <td>3</td>\n",
       "      <td>1</td>\n",
       "      <td>0</td>\n",
       "      <td>1</td>\n",
       "      <td>0</td>\n",
       "      <td>1</td>\n",
       "    </tr>\n",
       "    <tr>\n",
       "      <th>2</th>\n",
       "      <td>3</td>\n",
       "      <td>1</td>\n",
       "      <td>0</td>\n",
       "      <td>0</td>\n",
       "      <td>0</td>\n",
       "      <td>1</td>\n",
       "    </tr>\n",
       "    <tr>\n",
       "      <th>3</th>\n",
       "      <td>1</td>\n",
       "      <td>1</td>\n",
       "      <td>0</td>\n",
       "      <td>1</td>\n",
       "      <td>0</td>\n",
       "      <td>1</td>\n",
       "    </tr>\n",
       "    <tr>\n",
       "      <th>4</th>\n",
       "      <td>1</td>\n",
       "      <td>1</td>\n",
       "      <td>0</td>\n",
       "      <td>0</td>\n",
       "      <td>0</td>\n",
       "      <td>0</td>\n",
       "    </tr>\n",
       "  </tbody>\n",
       "</table>\n",
       "</div>"
      ],
      "text/plain": [
       "   cholesterol  gluc  alco  active  smoke  cardio\n",
       "0            1     1     0       1      0       0\n",
       "1            3     1     0       1      0       1\n",
       "2            3     1     0       0      0       1\n",
       "3            1     1     0       1      0       1\n",
       "4            1     1     0       0      0       0"
      ]
     },
     "execution_count": 213,
     "metadata": {},
     "output_type": "execute_result"
    }
   ],
   "source": [
    "subset.head()"
   ]
  },
  {
   "cell_type": "code",
   "execution_count": 214,
   "metadata": {},
   "outputs": [],
   "source": [
    "subset_groupby = subset.groupby(df['cardio'])"
   ]
  },
  {
   "cell_type": "code",
   "execution_count": 215,
   "metadata": {},
   "outputs": [
    {
     "data": {
      "text/plain": [
       "cardio\n",
       "0    35021\n",
       "1    34979\n",
       "dtype: int64"
      ]
     },
     "execution_count": 215,
     "metadata": {},
     "output_type": "execute_result"
    }
   ],
   "source": [
    "subset_groupby.size()"
   ]
  },
  {
   "cell_type": "code",
   "execution_count": 216,
   "metadata": {},
   "outputs": [],
   "source": [
    "cardio_one = subset_groupby.get_group(1)\n",
    "cardio_zero = subset_groupby.get_group(0)"
   ]
  },
  {
   "cell_type": "code",
   "execution_count": 217,
   "metadata": {},
   "outputs": [],
   "source": [
    "%matplotlib inline"
   ]
  },
  {
   "cell_type": "markdown",
   "metadata": {},
   "source": [
    "* Add an `overweight` column to the data. To determine if a person is overweight, first calculate their BMI by dividing their weight in kilograms by the square of their height in meters. If that value is > 25 then the person is overweight. Use the value 0 for NOT overweight and the value 1 for overweight."
   ]
  },
  {
   "cell_type": "code",
   "execution_count": 218,
   "metadata": {},
   "outputs": [],
   "source": [
    "overweight = df[\"weight\"] / ((df[\"height\"]/100) **2)    "
   ]
  },
  {
   "cell_type": "code",
   "execution_count": 219,
   "metadata": {},
   "outputs": [],
   "source": [
    "overweight = overweight.map( lambda x:  1 if x > 25 else 0 )"
   ]
  },
  {
   "cell_type": "code",
   "execution_count": 220,
   "metadata": {},
   "outputs": [],
   "source": [
    "df['overweight'] = overweight"
   ]
  },
  {
   "cell_type": "code",
   "execution_count": 221,
   "metadata": {},
   "outputs": [
    {
     "data": {
      "text/html": [
       "<div>\n",
       "<style scoped>\n",
       "    .dataframe tbody tr th:only-of-type {\n",
       "        vertical-align: middle;\n",
       "    }\n",
       "\n",
       "    .dataframe tbody tr th {\n",
       "        vertical-align: top;\n",
       "    }\n",
       "\n",
       "    .dataframe thead th {\n",
       "        text-align: right;\n",
       "    }\n",
       "</style>\n",
       "<table border=\"1\" class=\"dataframe\">\n",
       "  <thead>\n",
       "    <tr style=\"text-align: right;\">\n",
       "      <th></th>\n",
       "      <th>id</th>\n",
       "      <th>age</th>\n",
       "      <th>gender</th>\n",
       "      <th>height</th>\n",
       "      <th>weight</th>\n",
       "      <th>ap_hi</th>\n",
       "      <th>ap_lo</th>\n",
       "      <th>cholesterol</th>\n",
       "      <th>gluc</th>\n",
       "      <th>smoke</th>\n",
       "      <th>alco</th>\n",
       "      <th>active</th>\n",
       "      <th>cardio</th>\n",
       "      <th>overweight</th>\n",
       "    </tr>\n",
       "  </thead>\n",
       "  <tbody>\n",
       "    <tr>\n",
       "      <th>0</th>\n",
       "      <td>0</td>\n",
       "      <td>18393</td>\n",
       "      <td>2</td>\n",
       "      <td>168</td>\n",
       "      <td>62.0</td>\n",
       "      <td>110</td>\n",
       "      <td>80</td>\n",
       "      <td>1</td>\n",
       "      <td>1</td>\n",
       "      <td>0</td>\n",
       "      <td>0</td>\n",
       "      <td>1</td>\n",
       "      <td>0</td>\n",
       "      <td>0</td>\n",
       "    </tr>\n",
       "    <tr>\n",
       "      <th>1</th>\n",
       "      <td>1</td>\n",
       "      <td>20228</td>\n",
       "      <td>1</td>\n",
       "      <td>156</td>\n",
       "      <td>85.0</td>\n",
       "      <td>140</td>\n",
       "      <td>90</td>\n",
       "      <td>3</td>\n",
       "      <td>1</td>\n",
       "      <td>0</td>\n",
       "      <td>0</td>\n",
       "      <td>1</td>\n",
       "      <td>1</td>\n",
       "      <td>1</td>\n",
       "    </tr>\n",
       "    <tr>\n",
       "      <th>2</th>\n",
       "      <td>2</td>\n",
       "      <td>18857</td>\n",
       "      <td>1</td>\n",
       "      <td>165</td>\n",
       "      <td>64.0</td>\n",
       "      <td>130</td>\n",
       "      <td>70</td>\n",
       "      <td>3</td>\n",
       "      <td>1</td>\n",
       "      <td>0</td>\n",
       "      <td>0</td>\n",
       "      <td>0</td>\n",
       "      <td>1</td>\n",
       "      <td>0</td>\n",
       "    </tr>\n",
       "    <tr>\n",
       "      <th>3</th>\n",
       "      <td>3</td>\n",
       "      <td>17623</td>\n",
       "      <td>2</td>\n",
       "      <td>169</td>\n",
       "      <td>82.0</td>\n",
       "      <td>150</td>\n",
       "      <td>100</td>\n",
       "      <td>1</td>\n",
       "      <td>1</td>\n",
       "      <td>0</td>\n",
       "      <td>0</td>\n",
       "      <td>1</td>\n",
       "      <td>1</td>\n",
       "      <td>1</td>\n",
       "    </tr>\n",
       "    <tr>\n",
       "      <th>4</th>\n",
       "      <td>4</td>\n",
       "      <td>17474</td>\n",
       "      <td>1</td>\n",
       "      <td>156</td>\n",
       "      <td>56.0</td>\n",
       "      <td>100</td>\n",
       "      <td>60</td>\n",
       "      <td>1</td>\n",
       "      <td>1</td>\n",
       "      <td>0</td>\n",
       "      <td>0</td>\n",
       "      <td>0</td>\n",
       "      <td>0</td>\n",
       "      <td>0</td>\n",
       "    </tr>\n",
       "  </tbody>\n",
       "</table>\n",
       "</div>"
      ],
      "text/plain": [
       "   id    age  gender  height  weight  ap_hi  ap_lo  cholesterol  gluc  smoke  \\\n",
       "0   0  18393       2     168    62.0    110     80            1     1      0   \n",
       "1   1  20228       1     156    85.0    140     90            3     1      0   \n",
       "2   2  18857       1     165    64.0    130     70            3     1      0   \n",
       "3   3  17623       2     169    82.0    150    100            1     1      0   \n",
       "4   4  17474       1     156    56.0    100     60            1     1      0   \n",
       "\n",
       "   alco  active  cardio  overweight  \n",
       "0     0       1       0           0  \n",
       "1     0       1       1           1  \n",
       "2     0       0       1           0  \n",
       "3     0       1       1           1  \n",
       "4     0       0       0           0  "
      ]
     },
     "execution_count": 221,
     "metadata": {},
     "output_type": "execute_result"
    }
   ],
   "source": [
    "df.head()"
   ]
  },
  {
   "cell_type": "markdown",
   "metadata": {},
   "source": [
    "- Normalize the data by making 0 always good and 1 always bad. If the value of `cholesterol` or `gluc` is 1, make the value 0. If the value is more than 1, make the value 1."
   ]
  },
  {
   "cell_type": "code",
   "execution_count": 222,
   "metadata": {},
   "outputs": [],
   "source": [
    "df['cholesterol'] =  np.where(df['cholesterol'] == 1, 0, 1)"
   ]
  },
  {
   "cell_type": "code",
   "execution_count": 223,
   "metadata": {},
   "outputs": [],
   "source": [
    "df['gluc'] =  np.where(df['gluc'] == 1, 0, 1)"
   ]
  },
  {
   "cell_type": "code",
   "execution_count": 224,
   "metadata": {},
   "outputs": [
    {
     "data": {
      "text/html": [
       "<div>\n",
       "<style scoped>\n",
       "    .dataframe tbody tr th:only-of-type {\n",
       "        vertical-align: middle;\n",
       "    }\n",
       "\n",
       "    .dataframe tbody tr th {\n",
       "        vertical-align: top;\n",
       "    }\n",
       "\n",
       "    .dataframe thead th {\n",
       "        text-align: right;\n",
       "    }\n",
       "</style>\n",
       "<table border=\"1\" class=\"dataframe\">\n",
       "  <thead>\n",
       "    <tr style=\"text-align: right;\">\n",
       "      <th></th>\n",
       "      <th>id</th>\n",
       "      <th>age</th>\n",
       "      <th>gender</th>\n",
       "      <th>height</th>\n",
       "      <th>weight</th>\n",
       "      <th>ap_hi</th>\n",
       "      <th>ap_lo</th>\n",
       "      <th>cholesterol</th>\n",
       "      <th>gluc</th>\n",
       "      <th>smoke</th>\n",
       "      <th>alco</th>\n",
       "      <th>active</th>\n",
       "      <th>cardio</th>\n",
       "      <th>overweight</th>\n",
       "    </tr>\n",
       "  </thead>\n",
       "  <tbody>\n",
       "    <tr>\n",
       "      <th>0</th>\n",
       "      <td>0</td>\n",
       "      <td>18393</td>\n",
       "      <td>2</td>\n",
       "      <td>168</td>\n",
       "      <td>62.0</td>\n",
       "      <td>110</td>\n",
       "      <td>80</td>\n",
       "      <td>0</td>\n",
       "      <td>0</td>\n",
       "      <td>0</td>\n",
       "      <td>0</td>\n",
       "      <td>1</td>\n",
       "      <td>0</td>\n",
       "      <td>0</td>\n",
       "    </tr>\n",
       "    <tr>\n",
       "      <th>1</th>\n",
       "      <td>1</td>\n",
       "      <td>20228</td>\n",
       "      <td>1</td>\n",
       "      <td>156</td>\n",
       "      <td>85.0</td>\n",
       "      <td>140</td>\n",
       "      <td>90</td>\n",
       "      <td>1</td>\n",
       "      <td>0</td>\n",
       "      <td>0</td>\n",
       "      <td>0</td>\n",
       "      <td>1</td>\n",
       "      <td>1</td>\n",
       "      <td>1</td>\n",
       "    </tr>\n",
       "    <tr>\n",
       "      <th>2</th>\n",
       "      <td>2</td>\n",
       "      <td>18857</td>\n",
       "      <td>1</td>\n",
       "      <td>165</td>\n",
       "      <td>64.0</td>\n",
       "      <td>130</td>\n",
       "      <td>70</td>\n",
       "      <td>1</td>\n",
       "      <td>0</td>\n",
       "      <td>0</td>\n",
       "      <td>0</td>\n",
       "      <td>0</td>\n",
       "      <td>1</td>\n",
       "      <td>0</td>\n",
       "    </tr>\n",
       "    <tr>\n",
       "      <th>3</th>\n",
       "      <td>3</td>\n",
       "      <td>17623</td>\n",
       "      <td>2</td>\n",
       "      <td>169</td>\n",
       "      <td>82.0</td>\n",
       "      <td>150</td>\n",
       "      <td>100</td>\n",
       "      <td>0</td>\n",
       "      <td>0</td>\n",
       "      <td>0</td>\n",
       "      <td>0</td>\n",
       "      <td>1</td>\n",
       "      <td>1</td>\n",
       "      <td>1</td>\n",
       "    </tr>\n",
       "    <tr>\n",
       "      <th>4</th>\n",
       "      <td>4</td>\n",
       "      <td>17474</td>\n",
       "      <td>1</td>\n",
       "      <td>156</td>\n",
       "      <td>56.0</td>\n",
       "      <td>100</td>\n",
       "      <td>60</td>\n",
       "      <td>0</td>\n",
       "      <td>0</td>\n",
       "      <td>0</td>\n",
       "      <td>0</td>\n",
       "      <td>0</td>\n",
       "      <td>0</td>\n",
       "      <td>0</td>\n",
       "    </tr>\n",
       "  </tbody>\n",
       "</table>\n",
       "</div>"
      ],
      "text/plain": [
       "   id    age  gender  height  weight  ap_hi  ap_lo  cholesterol  gluc  smoke  \\\n",
       "0   0  18393       2     168    62.0    110     80            0     0      0   \n",
       "1   1  20228       1     156    85.0    140     90            1     0      0   \n",
       "2   2  18857       1     165    64.0    130     70            1     0      0   \n",
       "3   3  17623       2     169    82.0    150    100            0     0      0   \n",
       "4   4  17474       1     156    56.0    100     60            0     0      0   \n",
       "\n",
       "   alco  active  cardio  overweight  \n",
       "0     0       1       0           0  \n",
       "1     0       1       1           1  \n",
       "2     0       0       1           0  \n",
       "3     0       1       1           1  \n",
       "4     0       0       0           0  "
      ]
     },
     "execution_count": 224,
     "metadata": {},
     "output_type": "execute_result"
    }
   ],
   "source": [
    "df.head()"
   ]
  },
  {
   "cell_type": "markdown",
   "metadata": {},
   "source": [
    "- Convert the data into long format and create a chart that shows the value counts of the categorical features using seaborn's `catplot()`. The dataset should be split by 'Cardio' so there is one chart for each `cardio` value. The chart should look like `examples/Figure_1.png`."
   ]
  },
  {
   "cell_type": "markdown",
   "metadata": {},
   "source": [
    "Pandas melt() function is used to change the DataFrame format from wide to long. It’s used to create a specific format of the DataFrame object where one or more columns work as identifiers. All the remaining columns are treated as values and unpivoted to the row axis and only two columns – variable and value.\n",
    "\n",
    "1. Pandas melt() Example\n",
    "The use of melt() function is more clear when looked through an example.\n",
    "\n",
    "\n",
    "```python\n",
    "\n",
    "import pandas as pd\n",
    "\n",
    "d1 = {\"Name\": [\"Pankaj\", \"Lisa\", \"David\"], \"ID\": [1, 2, 3], \"Role\": [\"CEO\", \"Editor\", \"Author\"]}\n",
    "\n",
    "df = pd.DataFrame(d1)\n",
    "\n",
    "print(df)\n",
    "\n",
    "df_melted = pd.melt(df, id_vars=[\"ID\"], value_vars=[\"Name\", \"Role\"])\n",
    "\n",
    "print(df_melted)\n",
    "\n",
    "```"
   ]
  },
  {
   "cell_type": "code",
   "execution_count": 225,
   "metadata": {},
   "outputs": [],
   "source": [
    "value = ['active', 'alco', 'cholesterol', 'gluc', 'overweight', 'smoke']\n",
    "\n",
    "df_categorical =  pd.melt(df, id_vars = ['cardio'], value_vars = value)"
   ]
  },
  {
   "cell_type": "code",
   "execution_count": 230,
   "metadata": {},
   "outputs": [
    {
     "data": {
      "text/html": [
       "<div>\n",
       "<style scoped>\n",
       "    .dataframe tbody tr th:only-of-type {\n",
       "        vertical-align: middle;\n",
       "    }\n",
       "\n",
       "    .dataframe tbody tr th {\n",
       "        vertical-align: top;\n",
       "    }\n",
       "\n",
       "    .dataframe thead th {\n",
       "        text-align: right;\n",
       "    }\n",
       "</style>\n",
       "<table border=\"1\" class=\"dataframe\">\n",
       "  <thead>\n",
       "    <tr style=\"text-align: right;\">\n",
       "      <th></th>\n",
       "      <th>cardio</th>\n",
       "      <th>variable</th>\n",
       "      <th>value</th>\n",
       "      <th>total</th>\n",
       "    </tr>\n",
       "  </thead>\n",
       "  <tbody>\n",
       "    <tr>\n",
       "      <th>0</th>\n",
       "      <td>0</td>\n",
       "      <td>active</td>\n",
       "      <td>1</td>\n",
       "      <td>1</td>\n",
       "    </tr>\n",
       "    <tr>\n",
       "      <th>1</th>\n",
       "      <td>1</td>\n",
       "      <td>active</td>\n",
       "      <td>1</td>\n",
       "      <td>1</td>\n",
       "    </tr>\n",
       "    <tr>\n",
       "      <th>2</th>\n",
       "      <td>1</td>\n",
       "      <td>active</td>\n",
       "      <td>0</td>\n",
       "      <td>1</td>\n",
       "    </tr>\n",
       "    <tr>\n",
       "      <th>3</th>\n",
       "      <td>1</td>\n",
       "      <td>active</td>\n",
       "      <td>1</td>\n",
       "      <td>1</td>\n",
       "    </tr>\n",
       "    <tr>\n",
       "      <th>4</th>\n",
       "      <td>0</td>\n",
       "      <td>active</td>\n",
       "      <td>0</td>\n",
       "      <td>1</td>\n",
       "    </tr>\n",
       "  </tbody>\n",
       "</table>\n",
       "</div>"
      ],
      "text/plain": [
       "   cardio variable  value  total\n",
       "0       0   active      1      1\n",
       "1       1   active      1      1\n",
       "2       1   active      0      1\n",
       "3       1   active      1      1\n",
       "4       0   active      0      1"
      ]
     },
     "execution_count": 230,
     "metadata": {},
     "output_type": "execute_result"
    }
   ],
   "source": [
    "df_categorical.head()"
   ]
  },
  {
   "cell_type": "code",
   "execution_count": 229,
   "metadata": {},
   "outputs": [
    {
     "data": {
      "text/html": [
       "<div>\n",
       "<style scoped>\n",
       "    .dataframe tbody tr th:only-of-type {\n",
       "        vertical-align: middle;\n",
       "    }\n",
       "\n",
       "    .dataframe tbody tr th {\n",
       "        vertical-align: top;\n",
       "    }\n",
       "\n",
       "    .dataframe thead th {\n",
       "        text-align: right;\n",
       "    }\n",
       "</style>\n",
       "<table border=\"1\" class=\"dataframe\">\n",
       "  <thead>\n",
       "    <tr style=\"text-align: right;\">\n",
       "      <th></th>\n",
       "      <th>cardio</th>\n",
       "      <th>variable</th>\n",
       "      <th>value</th>\n",
       "      <th>total</th>\n",
       "    </tr>\n",
       "  </thead>\n",
       "  <tbody>\n",
       "    <tr>\n",
       "      <th>0</th>\n",
       "      <td>0</td>\n",
       "      <td>active</td>\n",
       "      <td>1</td>\n",
       "      <td>1</td>\n",
       "    </tr>\n",
       "    <tr>\n",
       "      <th>1</th>\n",
       "      <td>1</td>\n",
       "      <td>active</td>\n",
       "      <td>1</td>\n",
       "      <td>1</td>\n",
       "    </tr>\n",
       "    <tr>\n",
       "      <th>2</th>\n",
       "      <td>1</td>\n",
       "      <td>active</td>\n",
       "      <td>0</td>\n",
       "      <td>1</td>\n",
       "    </tr>\n",
       "    <tr>\n",
       "      <th>3</th>\n",
       "      <td>1</td>\n",
       "      <td>active</td>\n",
       "      <td>1</td>\n",
       "      <td>1</td>\n",
       "    </tr>\n",
       "    <tr>\n",
       "      <th>4</th>\n",
       "      <td>0</td>\n",
       "      <td>active</td>\n",
       "      <td>0</td>\n",
       "      <td>1</td>\n",
       "    </tr>\n",
       "  </tbody>\n",
       "</table>\n",
       "</div>"
      ],
      "text/plain": [
       "   cardio variable  value  total\n",
       "0       0   active      1      1\n",
       "1       1   active      1      1\n",
       "2       1   active      0      1\n",
       "3       1   active      1      1\n",
       "4       0   active      0      1"
      ]
     },
     "execution_count": 229,
     "metadata": {},
     "output_type": "execute_result"
    }
   ],
   "source": [
    "df_categorical['total'] = 1\n",
    "df_categorical.head()"
   ]
  },
  {
   "cell_type": "code",
   "execution_count": 233,
   "metadata": {},
   "outputs": [
    {
     "data": {
      "text/plain": [
       "(24, 4)"
      ]
     },
     "execution_count": 233,
     "metadata": {},
     "output_type": "execute_result"
    }
   ],
   "source": [
    "group = df_categorical.groupby(['cardio', 'variable', 'value'], as_index = False).count()\n",
    "group.shape"
   ]
  },
  {
   "cell_type": "code",
   "execution_count": 234,
   "metadata": {},
   "outputs": [
    {
     "data": {
      "text/plain": [
       "(420000, 4)"
      ]
     },
     "execution_count": 234,
     "metadata": {},
     "output_type": "execute_result"
    }
   ],
   "source": [
    "\n",
    "df_categorical['total'] = group\n",
    "df_categorical.shape"
   ]
  },
  {
   "cell_type": "code",
   "execution_count": 235,
   "metadata": {},
   "outputs": [
    {
     "data": {
      "image/png": "[encoded data removed]",
      "text/plain": [
       "<Figure size 765.725x360 with 2 Axes>"
      ]
     },
     "metadata": {
      "needs_background": "light"
     },
     "output_type": "display_data"
    }
   ],
   "source": [
    "\n",
    "\n",
    "fig = sns.catplot(x=\"variable\", hue=\"value\",\n",
    "            col=\"cardio\",\n",
    "            kind=\"count\", data=df_categorical)"
   ]
  },
  {
   "cell_type": "code",
   "execution_count": 236,
   "metadata": {},
   "outputs": [],
   "source": [
    "fig.savefig('catplot.png')"
   ]
  },
  {
   "cell_type": "markdown",
   "metadata": {},
   "source": [
    "- Clean the data. Filter out the following patient segments that represent incorrect data:\n",
    "\n",
    "    - diastolic pressure is higher than systolic (Keep the correct data with `(df['ap_lo'] <= df['ap_hi'])`)\n",
    "    - height is less than the 2.5th percentile (Keep the correct data with `(df['height'] >= df['height'].quantile(0.025))`)\n",
    "    - height is more than the 97.5th percentile\n",
    "    - weight is less than the 2.5th percentile\n",
    "    - weight is more than the 97.5th percentile"
   ]
  },
  {
   "cell_type": "code",
   "execution_count": 237,
   "metadata": {},
   "outputs": [
    {
     "data": {
      "text/plain": [
       "(68766, 14)"
      ]
     },
     "execution_count": 237,
     "metadata": {},
     "output_type": "execute_result"
    }
   ],
   "source": [
    "df_pressure =  df[ df['ap_lo'] <= df['ap_hi']]\n",
    "df_pressure.shape"
   ]
  },
  {
   "cell_type": "code",
   "execution_count": 238,
   "metadata": {},
   "outputs": [
    {
     "data": {
      "text/plain": [
       "150.0"
      ]
     },
     "execution_count": 238,
     "metadata": {},
     "output_type": "execute_result"
    }
   ],
   "source": [
    "df['height'].quantile(0.025)"
   ]
  },
  {
   "cell_type": "code",
   "execution_count": 239,
   "metadata": {},
   "outputs": [
    {
     "data": {
      "text/plain": [
       "(68766, 14)"
      ]
     },
     "execution_count": 239,
     "metadata": {},
     "output_type": "execute_result"
    }
   ],
   "source": [
    "df_pres_height =  df[ df['height'] >= df['height'].quantile(0.025) ]\n",
    "df_pressure.shape"
   ]
  },
  {
   "cell_type": "code",
   "execution_count": 240,
   "metadata": {},
   "outputs": [
    {
     "data": {
      "text/plain": [
       "180.0"
      ]
     },
     "execution_count": 240,
     "metadata": {},
     "output_type": "execute_result"
    }
   ],
   "source": [
    "df['height'].quantile(0.975)"
   ]
  },
  {
   "cell_type": "code",
   "execution_count": 241,
   "metadata": {},
   "outputs": [
    {
     "data": {
      "text/plain": [
       "(68766, 14)"
      ]
     },
     "execution_count": 241,
     "metadata": {},
     "output_type": "execute_result"
    }
   ],
   "source": [
    "df_pres_height =  df[ df['height'] <= df['height'].quantile(0.975) ]\n",
    "df_pressure.shape"
   ]
  },
  {
   "cell_type": "code",
   "execution_count": 242,
   "metadata": {},
   "outputs": [
    {
     "data": {
      "text/plain": [
       "(68766, 14)"
      ]
     },
     "execution_count": 242,
     "metadata": {},
     "output_type": "execute_result"
    }
   ],
   "source": [
    "df_pres_h_w =  df[ df['weight'] >= df['weight'].quantile(0.025) ]\n",
    "df_pressure.shape"
   ]
  },
  {
   "cell_type": "code",
   "execution_count": 243,
   "metadata": {},
   "outputs": [
    {
     "data": {
      "text/plain": [
       "(68766, 14)"
      ]
     },
     "execution_count": 243,
     "metadata": {},
     "output_type": "execute_result"
    }
   ],
   "source": [
    "df_pres_h_w =  df[ df['weight'] <= df['weight'].quantile(0.975) ]\n",
    "df_pressure.shape"
   ]
  },
  {
   "cell_type": "code",
   "execution_count": 244,
   "metadata": {},
   "outputs": [
    {
     "data": {
      "text/plain": [
       "(68387, 14)"
      ]
     },
     "execution_count": 244,
     "metadata": {},
     "output_type": "execute_result"
    }
   ],
   "source": [
    "df_heat = df_pres_h_w.dropna()\n",
    "df_pres_h_w .shape"
   ]
  },
  {
   "cell_type": "code",
   "execution_count": 258,
   "metadata": {},
   "outputs": [],
   "source": [
    " df_heat = df[ \n",
    "    (df['ap_lo'] <= df['ap_hi']) &\n",
    "    (df['height'] >= df['height'].quantile(0.025)) &\n",
    "    (df['height'] <= df['height'].quantile(0.975)) &\n",
    "    (df['weight'] >= df['weight'].quantile(0.025)) &\n",
    "    (df['weight'] <= df['weight'].quantile(0.975) )\n",
    "  ]"
   ]
  },
  {
   "cell_type": "markdown",
   "metadata": {},
   "source": [
    "- Create a correlation matrix using the dataset. Plot the correlation matrix using seaborn's `heatmap()`. Mask the upper triangle. The chart should look like `examples/Figure_2.png`."
   ]
  },
  {
   "cell_type": "code",
   "execution_count": 245,
   "metadata": {},
   "outputs": [
    {
     "data": {
      "text/plain": [
       "\u001b[0;31mSignature:\u001b[0m \u001b[0mdf_heat\u001b[0m\u001b[0;34m.\u001b[0m\u001b[0mcorr\u001b[0m\u001b[0;34m(\u001b[0m\u001b[0mmethod\u001b[0m\u001b[0;34m=\u001b[0m\u001b[0;34m'pearson'\u001b[0m\u001b[0;34m,\u001b[0m \u001b[0mmin_periods\u001b[0m\u001b[0;34m=\u001b[0m\u001b[0;36m1\u001b[0m\u001b[0;34m)\u001b[0m\u001b[0;34m\u001b[0m\u001b[0;34m\u001b[0m\u001b[0m\n",
       "\u001b[0;31mDocstring:\u001b[0m\n",
       "Compute pairwise correlation of columns, excluding NA/null values.\n",
       "\n",
       "Parameters\n",
       "----------\n",
       "method : {'pearson', 'kendall', 'spearman'} or callable\n",
       "    * pearson : standard correlation coefficient\n",
       "    * kendall : Kendall Tau correlation coefficient\n",
       "    * spearman : Spearman rank correlation\n",
       "    * callable: callable with input two 1d ndarrays\n",
       "        and returning a float\n",
       "        .. versionadded:: 0.24.0\n",
       "\n",
       "min_periods : int, optional\n",
       "    Minimum number of observations required per pair of columns\n",
       "    to have a valid result. Currently only available for pearson\n",
       "    and spearman correlation\n",
       "\n",
       "Returns\n",
       "-------\n",
       "y : DataFrame\n",
       "\n",
       "See Also\n",
       "--------\n",
       "DataFrame.corrwith\n",
       "Series.corr\n",
       "\n",
       "Examples\n",
       "--------\n",
       ">>> histogram_intersection = lambda a, b: np.minimum(a, b\n",
       "... ).sum().round(decimals=1)\n",
       ">>> df = pd.DataFrame([(.2, .3), (.0, .6), (.6, .0), (.2, .1)],\n",
       "...                   columns=['dogs', 'cats'])\n",
       ">>> df.corr(method=histogram_intersection)\n",
       "      dogs cats\n",
       "dogs   1.0  0.3\n",
       "cats   0.3  1.0\n",
       "\u001b[0;31mFile:\u001b[0m      ~/.local/lib/python3.6/site-packages/pandas/core/frame.py\n",
       "\u001b[0;31mType:\u001b[0m      method\n"
      ]
     },
     "metadata": {},
     "output_type": "display_data"
    }
   ],
   "source": [
    "corr = df_heat.corr?"
   ]
  },
  {
   "cell_type": "code",
   "execution_count": null,
   "metadata": {},
   "outputs": [],
   "source": [
    "corr = df_heat.corr"
   ]
  },
  {
   "cell_type": "code",
   "execution_count": 246,
   "metadata": {},
   "outputs": [],
   "source": [
    "corr = df_heat.corr"
   ]
  },
  {
   "cell_type": "code",
   "execution_count": 247,
   "metadata": {},
   "outputs": [],
   "source": [
    "corr = df_heat.corr"
   ]
  },
  {
   "cell_type": "code",
   "execution_count": 248,
   "metadata": {},
   "outputs": [],
   "source": [
    "corr = df_heat.corr"
   ]
  },
  {
   "cell_type": "code",
   "execution_count": 249,
   "metadata": {},
   "outputs": [
    {
     "data": {
      "text/html": [
       "<div>\n",
       "<style scoped>\n",
       "    .dataframe tbody tr th:only-of-type {\n",
       "        vertical-align: middle;\n",
       "    }\n",
       "\n",
       "    .dataframe tbody tr th {\n",
       "        vertical-align: top;\n",
       "    }\n",
       "\n",
       "    .dataframe thead th {\n",
       "        text-align: right;\n",
       "    }\n",
       "</style>\n",
       "<table border=\"1\" class=\"dataframe\">\n",
       "  <thead>\n",
       "    <tr style=\"text-align: right;\">\n",
       "      <th></th>\n",
       "      <th>id</th>\n",
       "      <th>age</th>\n",
       "      <th>gender</th>\n",
       "      <th>height</th>\n",
       "      <th>weight</th>\n",
       "      <th>ap_hi</th>\n",
       "      <th>ap_lo</th>\n",
       "      <th>cholesterol</th>\n",
       "      <th>gluc</th>\n",
       "      <th>smoke</th>\n",
       "      <th>alco</th>\n",
       "      <th>active</th>\n",
       "      <th>cardio</th>\n",
       "      <th>overweight</th>\n",
       "    </tr>\n",
       "  </thead>\n",
       "  <tbody>\n",
       "    <tr>\n",
       "      <th>id</th>\n",
       "      <td>1.000000</td>\n",
       "      <td>0.003120</td>\n",
       "      <td>0.002321</td>\n",
       "      <td>-0.004658</td>\n",
       "      <td>-0.003559</td>\n",
       "      <td>0.003414</td>\n",
       "      <td>-0.002585</td>\n",
       "      <td>0.003941</td>\n",
       "      <td>0.000886</td>\n",
       "      <td>-0.003598</td>\n",
       "      <td>0.001080</td>\n",
       "      <td>0.003494</td>\n",
       "      <td>0.003029</td>\n",
       "      <td>-0.001284</td>\n",
       "    </tr>\n",
       "    <tr>\n",
       "      <th>age</th>\n",
       "      <td>0.003120</td>\n",
       "      <td>1.000000</td>\n",
       "      <td>-0.021693</td>\n",
       "      <td>-0.081044</td>\n",
       "      <td>0.065266</td>\n",
       "      <td>0.020703</td>\n",
       "      <td>0.018661</td>\n",
       "      <td>0.131435</td>\n",
       "      <td>0.088171</td>\n",
       "      <td>-0.045043</td>\n",
       "      <td>-0.028798</td>\n",
       "      <td>-0.010400</td>\n",
       "      <td>0.241494</td>\n",
       "      <td>0.093900</td>\n",
       "    </tr>\n",
       "    <tr>\n",
       "      <th>gender</th>\n",
       "      <td>0.002321</td>\n",
       "      <td>-0.021693</td>\n",
       "      <td>1.000000</td>\n",
       "      <td>0.493498</td>\n",
       "      <td>0.165414</td>\n",
       "      <td>0.005701</td>\n",
       "      <td>0.014955</td>\n",
       "      <td>-0.037085</td>\n",
       "      <td>-0.020268</td>\n",
       "      <td>0.338337</td>\n",
       "      <td>0.169876</td>\n",
       "      <td>0.006912</td>\n",
       "      <td>0.005299</td>\n",
       "      <td>-0.045233</td>\n",
       "    </tr>\n",
       "    <tr>\n",
       "      <th>height</th>\n",
       "      <td>-0.004658</td>\n",
       "      <td>-0.081044</td>\n",
       "      <td>0.493498</td>\n",
       "      <td>1.000000</td>\n",
       "      <td>0.304947</td>\n",
       "      <td>0.004879</td>\n",
       "      <td>0.005005</td>\n",
       "      <td>-0.056105</td>\n",
       "      <td>-0.025236</td>\n",
       "      <td>0.186168</td>\n",
       "      <td>0.092319</td>\n",
       "      <td>-0.005593</td>\n",
       "      <td>-0.016838</td>\n",
       "      <td>-0.128426</td>\n",
       "    </tr>\n",
       "    <tr>\n",
       "      <th>weight</th>\n",
       "      <td>-0.003559</td>\n",
       "      <td>0.065266</td>\n",
       "      <td>0.165414</td>\n",
       "      <td>0.304947</td>\n",
       "      <td>1.000000</td>\n",
       "      <td>0.029517</td>\n",
       "      <td>0.038265</td>\n",
       "      <td>0.128224</td>\n",
       "      <td>0.103992</td>\n",
       "      <td>0.065468</td>\n",
       "      <td>0.065371</td>\n",
       "      <td>-0.016151</td>\n",
       "      <td>0.176549</td>\n",
       "      <td>0.650793</td>\n",
       "    </tr>\n",
       "    <tr>\n",
       "      <th>ap_hi</th>\n",
       "      <td>0.003414</td>\n",
       "      <td>0.020703</td>\n",
       "      <td>0.005701</td>\n",
       "      <td>0.004879</td>\n",
       "      <td>0.029517</td>\n",
       "      <td>1.000000</td>\n",
       "      <td>0.015261</td>\n",
       "      <td>0.024174</td>\n",
       "      <td>0.012138</td>\n",
       "      <td>-0.001282</td>\n",
       "      <td>0.001096</td>\n",
       "      <td>0.000115</td>\n",
       "      <td>0.053637</td>\n",
       "      <td>0.020169</td>\n",
       "    </tr>\n",
       "    <tr>\n",
       "      <th>ap_lo</th>\n",
       "      <td>-0.002585</td>\n",
       "      <td>0.018661</td>\n",
       "      <td>0.014955</td>\n",
       "      <td>0.005005</td>\n",
       "      <td>0.038265</td>\n",
       "      <td>0.015261</td>\n",
       "      <td>1.000000</td>\n",
       "      <td>0.025398</td>\n",
       "      <td>0.012734</td>\n",
       "      <td>0.003759</td>\n",
       "      <td>0.011063</td>\n",
       "      <td>0.004340</td>\n",
       "      <td>0.063831</td>\n",
       "      <td>0.028216</td>\n",
       "    </tr>\n",
       "    <tr>\n",
       "      <th>cholesterol</th>\n",
       "      <td>0.003941</td>\n",
       "      <td>0.131435</td>\n",
       "      <td>-0.037085</td>\n",
       "      <td>-0.056105</td>\n",
       "      <td>0.128224</td>\n",
       "      <td>0.024174</td>\n",
       "      <td>0.025398</td>\n",
       "      <td>1.000000</td>\n",
       "      <td>0.380944</td>\n",
       "      <td>0.014381</td>\n",
       "      <td>0.041340</td>\n",
       "      <td>0.006279</td>\n",
       "      <td>0.204596</td>\n",
       "      <td>0.129348</td>\n",
       "    </tr>\n",
       "    <tr>\n",
       "      <th>gluc</th>\n",
       "      <td>0.000886</td>\n",
       "      <td>0.088171</td>\n",
       "      <td>-0.020268</td>\n",
       "      <td>-0.025236</td>\n",
       "      <td>0.103992</td>\n",
       "      <td>0.012138</td>\n",
       "      <td>0.012734</td>\n",
       "      <td>0.380944</td>\n",
       "      <td>1.000000</td>\n",
       "      <td>-0.002550</td>\n",
       "      <td>0.016200</td>\n",
       "      <td>-0.008318</td>\n",
       "      <td>0.089815</td>\n",
       "      <td>0.090631</td>\n",
       "    </tr>\n",
       "    <tr>\n",
       "      <th>smoke</th>\n",
       "      <td>-0.003598</td>\n",
       "      <td>-0.045043</td>\n",
       "      <td>0.338337</td>\n",
       "      <td>0.186168</td>\n",
       "      <td>0.065468</td>\n",
       "      <td>-0.001282</td>\n",
       "      <td>0.003759</td>\n",
       "      <td>0.014381</td>\n",
       "      <td>-0.002550</td>\n",
       "      <td>1.000000</td>\n",
       "      <td>0.341707</td>\n",
       "      <td>0.029033</td>\n",
       "      <td>-0.018151</td>\n",
       "      <td>-0.004306</td>\n",
       "    </tr>\n",
       "    <tr>\n",
       "      <th>alco</th>\n",
       "      <td>0.001080</td>\n",
       "      <td>-0.028798</td>\n",
       "      <td>0.169876</td>\n",
       "      <td>0.092319</td>\n",
       "      <td>0.065371</td>\n",
       "      <td>0.001096</td>\n",
       "      <td>0.011063</td>\n",
       "      <td>0.041340</td>\n",
       "      <td>0.016200</td>\n",
       "      <td>0.341707</td>\n",
       "      <td>1.000000</td>\n",
       "      <td>0.027030</td>\n",
       "      <td>-0.009329</td>\n",
       "      <td>0.025752</td>\n",
       "    </tr>\n",
       "    <tr>\n",
       "      <th>active</th>\n",
       "      <td>0.003494</td>\n",
       "      <td>-0.010400</td>\n",
       "      <td>0.006912</td>\n",
       "      <td>-0.005593</td>\n",
       "      <td>-0.016151</td>\n",
       "      <td>0.000115</td>\n",
       "      <td>0.004340</td>\n",
       "      <td>0.006279</td>\n",
       "      <td>-0.008318</td>\n",
       "      <td>0.029033</td>\n",
       "      <td>0.027030</td>\n",
       "      <td>1.000000</td>\n",
       "      <td>-0.035644</td>\n",
       "      <td>-0.003435</td>\n",
       "    </tr>\n",
       "    <tr>\n",
       "      <th>cardio</th>\n",
       "      <td>0.003029</td>\n",
       "      <td>0.241494</td>\n",
       "      <td>0.005299</td>\n",
       "      <td>-0.016838</td>\n",
       "      <td>0.176549</td>\n",
       "      <td>0.053637</td>\n",
       "      <td>0.063831</td>\n",
       "      <td>0.204596</td>\n",
       "      <td>0.089815</td>\n",
       "      <td>-0.018151</td>\n",
       "      <td>-0.009329</td>\n",
       "      <td>-0.035644</td>\n",
       "      <td>1.000000</td>\n",
       "      <td>0.153278</td>\n",
       "    </tr>\n",
       "    <tr>\n",
       "      <th>overweight</th>\n",
       "      <td>-0.001284</td>\n",
       "      <td>0.093900</td>\n",
       "      <td>-0.045233</td>\n",
       "      <td>-0.128426</td>\n",
       "      <td>0.650793</td>\n",
       "      <td>0.020169</td>\n",
       "      <td>0.028216</td>\n",
       "      <td>0.129348</td>\n",
       "      <td>0.090631</td>\n",
       "      <td>-0.004306</td>\n",
       "      <td>0.025752</td>\n",
       "      <td>-0.003435</td>\n",
       "      <td>0.153278</td>\n",
       "      <td>1.000000</td>\n",
       "    </tr>\n",
       "  </tbody>\n",
       "</table>\n",
       "</div>"
      ],
      "text/plain": [
       "                   id       age    gender    height    weight     ap_hi  \\\n",
       "id           1.000000  0.003120  0.002321 -0.004658 -0.003559  0.003414   \n",
       "age          0.003120  1.000000 -0.021693 -0.081044  0.065266  0.020703   \n",
       "gender       0.002321 -0.021693  1.000000  0.493498  0.165414  0.005701   \n",
       "height      -0.004658 -0.081044  0.493498  1.000000  0.304947  0.004879   \n",
       "weight      -0.003559  0.065266  0.165414  0.304947  1.000000  0.029517   \n",
       "ap_hi        0.003414  0.020703  0.005701  0.004879  0.029517  1.000000   \n",
       "ap_lo       -0.002585  0.018661  0.014955  0.005005  0.038265  0.015261   \n",
       "cholesterol  0.003941  0.131435 -0.037085 -0.056105  0.128224  0.024174   \n",
       "gluc         0.000886  0.088171 -0.020268 -0.025236  0.103992  0.012138   \n",
       "smoke       -0.003598 -0.045043  0.338337  0.186168  0.065468 -0.001282   \n",
       "alco         0.001080 -0.028798  0.169876  0.092319  0.065371  0.001096   \n",
       "active       0.003494 -0.010400  0.006912 -0.005593 -0.016151  0.000115   \n",
       "cardio       0.003029  0.241494  0.005299 -0.016838  0.176549  0.053637   \n",
       "overweight  -0.001284  0.093900 -0.045233 -0.128426  0.650793  0.020169   \n",
       "\n",
       "                ap_lo  cholesterol      gluc     smoke      alco    active  \\\n",
       "id          -0.002585     0.003941  0.000886 -0.003598  0.001080  0.003494   \n",
       "age          0.018661     0.131435  0.088171 -0.045043 -0.028798 -0.010400   \n",
       "gender       0.014955    -0.037085 -0.020268  0.338337  0.169876  0.006912   \n",
       "height       0.005005    -0.056105 -0.025236  0.186168  0.092319 -0.005593   \n",
       "weight       0.038265     0.128224  0.103992  0.065468  0.065371 -0.016151   \n",
       "ap_hi        0.015261     0.024174  0.012138 -0.001282  0.001096  0.000115   \n",
       "ap_lo        1.000000     0.025398  0.012734  0.003759  0.011063  0.004340   \n",
       "cholesterol  0.025398     1.000000  0.380944  0.014381  0.041340  0.006279   \n",
       "gluc         0.012734     0.380944  1.000000 -0.002550  0.016200 -0.008318   \n",
       "smoke        0.003759     0.014381 -0.002550  1.000000  0.341707  0.029033   \n",
       "alco         0.011063     0.041340  0.016200  0.341707  1.000000  0.027030   \n",
       "active       0.004340     0.006279 -0.008318  0.029033  0.027030  1.000000   \n",
       "cardio       0.063831     0.204596  0.089815 -0.018151 -0.009329 -0.035644   \n",
       "overweight   0.028216     0.129348  0.090631 -0.004306  0.025752 -0.003435   \n",
       "\n",
       "               cardio  overweight  \n",
       "id           0.003029   -0.001284  \n",
       "age          0.241494    0.093900  \n",
       "gender       0.005299   -0.045233  \n",
       "height      -0.016838   -0.128426  \n",
       "weight       0.176549    0.650793  \n",
       "ap_hi        0.053637    0.020169  \n",
       "ap_lo        0.063831    0.028216  \n",
       "cholesterol  0.204596    0.129348  \n",
       "gluc         0.089815    0.090631  \n",
       "smoke       -0.018151   -0.004306  \n",
       "alco        -0.009329    0.025752  \n",
       "active      -0.035644   -0.003435  \n",
       "cardio       1.000000    0.153278  \n",
       "overweight   0.153278    1.000000  "
      ]
     },
     "execution_count": 249,
     "metadata": {},
     "output_type": "execute_result"
    }
   ],
   "source": [
    "corr = df_heat.corr(method ='pearson')\n",
    "corr"
   ]
  },
  {
   "cell_type": "code",
   "execution_count": 250,
   "metadata": {},
   "outputs": [
    {
     "data": {
      "text/plain": [
       "\u001b[0;31mSignature:\u001b[0m \u001b[0mnp\u001b[0m\u001b[0;34m.\u001b[0m\u001b[0mtriu\u001b[0m\u001b[0;34m(\u001b[0m\u001b[0mm\u001b[0m\u001b[0;34m,\u001b[0m \u001b[0mk\u001b[0m\u001b[0;34m=\u001b[0m\u001b[0;36m0\u001b[0m\u001b[0;34m)\u001b[0m\u001b[0;34m\u001b[0m\u001b[0;34m\u001b[0m\u001b[0m\n",
       "\u001b[0;31mDocstring:\u001b[0m\n",
       "Upper triangle of an array.\n",
       "\n",
       "Return a copy of a matrix with the elements below the `k`-th diagonal\n",
       "zeroed.\n",
       "\n",
       "Please refer to the documentation for `tril` for further details.\n",
       "\n",
       "See Also\n",
       "--------\n",
       "tril : lower triangle of an array\n",
       "\n",
       "Examples\n",
       "--------\n",
       ">>> np.triu([[1,2,3],[4,5,6],[7,8,9],[10,11,12]], -1)\n",
       "array([[ 1,  2,  3],\n",
       "       [ 4,  5,  6],\n",
       "       [ 0,  8,  9],\n",
       "       [ 0,  0, 12]])\n",
       "\u001b[0;31mFile:\u001b[0m      ~/.local/lib/python3.6/site-packages/numpy/lib/twodim_base.py\n",
       "\u001b[0;31mType:\u001b[0m      function\n"
      ]
     },
     "metadata": {},
     "output_type": "display_data"
    }
   ],
   "source": [
    "\n",
    "np.triu?"
   ]
  },
  {
   "cell_type": "code",
   "execution_count": 251,
   "metadata": {},
   "outputs": [],
   "source": [
    "mask = np.triu(corr)"
   ]
  },
  {
   "cell_type": "code",
   "execution_count": 257,
   "metadata": {},
   "outputs": [],
   "source": []
  },
  {
   "cell_type": "code",
   "execution_count": 252,
   "metadata": {},
   "outputs": [
    {
     "data": {
      "image/png": "[encoded data removed]",
      "text/plain": [
       "<Figure size 864x864 with 2 Axes>"
      ]
     },
     "metadata": {},
     "output_type": "display_data"
    }
   ],
   "source": [
    "\n",
    "\n",
    "mask[np.triu_indices_from(mask)] = True\n",
    "with sns.axes_style(\"white\"):\n",
    "    fig, ax = plt.subplots(figsize=(12, 12))\n",
    "    ax = sns.heatmap(\n",
    "        corr, \n",
    "        mask=mask, \n",
    "        square=True,\n",
    "        vmax = 0.26,\n",
    "        linewidths=.5,\n",
    "        annot=True,\n",
    "        center=0.08,\n",
    "        cbar_kws = {\"shrink\": 0.5},\n",
    "        fmt = \".1f\"\n",
    "    )"
   ]
  },
  {
   "cell_type": "code",
   "execution_count": 253,
   "metadata": {},
   "outputs": [],
   "source": [
    "fig.savefig('heatmap.png')"
   ]
  },
  {
   "cell_type": "code",
   "execution_count": null,
   "metadata": {},
   "outputs": [],
   "source": []
  }
 ],
 "metadata": {
  "kernelspec": {
   "display_name": "Python 3",
   "language": "python",
   "name": "python3"
  },
  "language_info": {
   "codemirror_mode": {
    "name": "ipython",
    "version": 3
   },
   "file_extension": ".py",
   "mimetype": "text/x-python",
   "name": "python",
   "nbconvert_exporter": "python",
   "pygments_lexer": "ipython3",
   "version": "3.6.9"
  }
 },
 "nbformat": 4,
 "nbformat_minor": 4
}
